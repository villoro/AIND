{
 "cells": [
  {
   "cell_type": "code",
   "execution_count": 13,
   "metadata": {},
   "outputs": [
    {
     "name": "stderr",
     "output_type": "stream",
     "text": [
      "IOPub data rate exceeded.\n",
      "The notebook server will temporarily stop sending output\n",
      "to the client in order to avoid crashing it.\n",
      "To change this limit, set the config variable\n",
      "`--NotebookApp.iopub_data_rate_limit`.\n"
     ]
    }
   ],
   "source": [
    "import pandas as pd, seaborn as sns\n",
    "\n",
    "%matplotlib inline\n",
    "\n",
    "import plotly.offline as py, plotly.graph_objs as go\n",
    "from plotly.tools import FigureFactory as ff\n",
    "from plotly import tools\n",
    "\n",
    "from palette import palette\n",
    "\n",
    "py.init_notebook_mode()"
   ]
  },
  {
   "cell_type": "markdown",
   "metadata": {},
   "source": [
    "# Introduction"
   ]
  },
  {
   "cell_type": "code",
   "execution_count": 3,
   "metadata": {},
   "outputs": [
    {
     "data": {
      "text/html": [
       "<div>\n",
       "<table border=\"1\" class=\"dataframe\">\n",
       "  <thead>\n",
       "    <tr style=\"text-align: right;\">\n",
       "      <th></th>\n",
       "      <th>AB_Improved</th>\n",
       "      <th>AB_Custom</th>\n",
       "      <th>AB_Custom_2</th>\n",
       "      <th>AB_Custom_3</th>\n",
       "    </tr>\n",
       "  </thead>\n",
       "  <tbody>\n",
       "    <tr>\n",
       "      <th>Random</th>\n",
       "      <td>860</td>\n",
       "      <td>864</td>\n",
       "      <td>885</td>\n",
       "      <td>866</td>\n",
       "    </tr>\n",
       "    <tr>\n",
       "      <th>MM_Open</th>\n",
       "      <td>508</td>\n",
       "      <td>515</td>\n",
       "      <td>538</td>\n",
       "      <td>519</td>\n",
       "    </tr>\n",
       "    <tr>\n",
       "      <th>MM_Center</th>\n",
       "      <td>708</td>\n",
       "      <td>691</td>\n",
       "      <td>687</td>\n",
       "      <td>705</td>\n",
       "    </tr>\n",
       "    <tr>\n",
       "      <th>MM_Improved</th>\n",
       "      <td>497</td>\n",
       "      <td>553</td>\n",
       "      <td>524</td>\n",
       "      <td>511</td>\n",
       "    </tr>\n",
       "    <tr>\n",
       "      <th>AB_Open</th>\n",
       "      <td>511</td>\n",
       "      <td>521</td>\n",
       "      <td>522</td>\n",
       "      <td>498</td>\n",
       "    </tr>\n",
       "    <tr>\n",
       "      <th>AB_Center</th>\n",
       "      <td>710</td>\n",
       "      <td>708</td>\n",
       "      <td>699</td>\n",
       "      <td>669</td>\n",
       "    </tr>\n",
       "    <tr>\n",
       "      <th>AB_Improved</th>\n",
       "      <td>504</td>\n",
       "      <td>520</td>\n",
       "      <td>503</td>\n",
       "      <td>466</td>\n",
       "    </tr>\n",
       "  </tbody>\n",
       "</table>\n",
       "</div>"
      ],
      "text/plain": [
       "             AB_Improved  AB_Custom  AB_Custom_2  AB_Custom_3\n",
       "Random               860        864          885          866\n",
       "MM_Open              508        515          538          519\n",
       "MM_Center            708        691          687          705\n",
       "MM_Improved          497        553          524          511\n",
       "AB_Open              511        521          522          498\n",
       "AB_Center            710        708          699          669\n",
       "AB_Improved          504        520          503          466"
      ]
     },
     "execution_count": 3,
     "metadata": {},
     "output_type": "execute_result"
    }
   ],
   "source": [
    "df = pd.read_excel(\"Results.xlsx\")\n",
    "df"
   ]
  },
  {
   "cell_type": "code",
   "execution_count": 29,
   "metadata": {},
   "outputs": [],
   "source": [
    "data = []\n",
    "\n",
    "colors_name = [\"blue\", \"orange\", \"green\", \"red\"]\n",
    "\n",
    "for col, color in zip(df.columns, colors_name):\n",
    "    \n",
    "    colors = palette().get_colors_by_index([(color, 200)]*7 + [(color, 500)])\n",
    "    \n",
    "    data.append(go.Bar(x=df.index.tolist() + [\"Total\"], y=df[col].tolist() + [df[col].mean()], \n",
    "                           marker={\"color\":colors}, name=col))"
   ]
  },
  {
   "cell_type": "code",
   "execution_count": 30,
   "metadata": {},
   "outputs": [
    {
     "data": {
      "text/plain": [
       "'file://C:\\\\PYTHON\\\\AIND\\\\P2\\\\temp-plot.html'"
      ]
     },
     "execution_count": 30,
     "metadata": {},
     "output_type": "execute_result"
    }
   ],
   "source": [
    "py.plot(data)"
   ]
  },
  {
   "cell_type": "code",
   "execution_count": 27,
   "metadata": {},
   "outputs": [
    {
     "data": {
      "text/plain": [
       "['Random',\n",
       " 'MM_Open',\n",
       " 'MM_Center',\n",
       " 'MM_Improved',\n",
       " 'AB_Open',\n",
       " 'AB_Center',\n",
       " 'AB_Improved',\n",
       " 'Total']"
      ]
     },
     "execution_count": 27,
     "metadata": {},
     "output_type": "execute_result"
    }
   ],
   "source": [
    "df.index.tolist() + [\"Total\"]"
   ]
  },
  {
   "cell_type": "code",
   "execution_count": 28,
   "metadata": {},
   "outputs": [
    {
     "data": {
      "text/plain": [
       "[866, 519, 705, 511, 498, 669, 466, 604.85714285714289]"
      ]
     },
     "execution_count": 28,
     "metadata": {},
     "output_type": "execute_result"
    }
   ],
   "source": [
    "df[col].tolist() + [df[col].mean()]"
   ]
  },
  {
   "cell_type": "code",
   "execution_count": null,
   "metadata": {
    "collapsed": true
   },
   "outputs": [],
   "source": []
  }
 ],
 "metadata": {
  "kernelspec": {
   "display_name": "Python 3",
   "language": "python",
   "name": "python3"
  },
  "language_info": {
   "codemirror_mode": {
    "name": "ipython",
    "version": 3
   },
   "file_extension": ".py",
   "mimetype": "text/x-python",
   "name": "python",
   "nbconvert_exporter": "python",
   "pygments_lexer": "ipython3",
   "version": "3.6.0"
  }
 },
 "nbformat": 4,
 "nbformat_minor": 2
}
