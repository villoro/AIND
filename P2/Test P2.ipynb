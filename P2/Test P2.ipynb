{
 "cells": [
  {
   "cell_type": "code",
   "execution_count": 1,
   "metadata": {
    "collapsed": true
   },
   "outputs": [],
   "source": [
    "import isolation\n",
    "import game_agent as ga"
   ]
  },
  {
   "cell_type": "code",
   "execution_count": 2,
   "metadata": {
    "collapsed": true
   },
   "outputs": [],
   "source": [
    "game = isolation.Board(\"p1\", \"p2\")"
   ]
  },
  {
   "cell_type": "code",
   "execution_count": 3,
   "metadata": {
    "collapsed": true
   },
   "outputs": [],
   "source": [
    "game.apply_move((2, 3))\n",
    "game.apply_move((4, 2))\n",
    "game.apply_move((3, 5))\n",
    "game.apply_move((3, 0))"
   ]
  },
  {
   "cell_type": "code",
   "execution_count": 4,
   "metadata": {
    "collapsed": true
   },
   "outputs": [],
   "source": [
    "def custom_score(game, player):\n",
    "\n",
    "    if game.is_loser(player):\n",
    "        return float(\"-inf\")\n",
    "\n",
    "    if game.is_winner(player):\n",
    "        return float(\"inf\")\n",
    "\n",
    "    return float(len(game.get_legal_moves(player)))"
   ]
  },
  {
   "cell_type": "code",
   "execution_count": 5,
   "metadata": {
    "collapsed": true
   },
   "outputs": [],
   "source": [
    "def terminal_test(game):\n",
    "    return not bool(game.get_legal_moves())"
   ]
  },
  {
   "cell_type": "code",
   "execution_count": 6,
   "metadata": {
    "collapsed": true
   },
   "outputs": [],
   "source": [
    "def min_value(game, depth):\n",
    "    \n",
    "    if terminal_test(game):\n",
    "        return float(\"inf\")\n",
    "    \n",
    "    if depth == 0:\n",
    "        return custom_score(game, game.get_opponent(game.active_player))\n",
    "        \n",
    "    v = float(\"inf\")\n",
    "    \n",
    "    for move in game.get_legal_moves():\n",
    "        v = min(v, max_value(game.forecast_move(move), depth - 1))\n",
    "        \n",
    "    return v\n",
    "\n",
    "def max_value(game, depth):\n",
    "\n",
    "    if terminal_test(game):\n",
    "        return float(\"-inf\")\n",
    "    \n",
    "    if depth == 0:\n",
    "        return custom_score(game, game.get_opponent(game.active_player))\n",
    "    \n",
    "    v = float(\"-inf\")\n",
    "    \n",
    "    for move in game.get_legal_moves():  \n",
    "        v = max(v, min_value(game.forecast_move(move), depth - 1))\n",
    "        \n",
    "    return v"
   ]
  },
  {
   "cell_type": "code",
   "execution_count": 7,
   "metadata": {},
   "outputs": [
    {
     "name": "stdout",
     "output_type": "stream",
     "text": [
      "0: (4, 3)\n",
      "1: (1, 4)\n",
      "2: (1, 6)\n"
     ]
    }
   ],
   "source": [
    "def get_best_branch(game, depth):\n",
    "    \n",
    "    best_score = float(\"-inf\")\n",
    "    best_move = None\n",
    "\n",
    "    for move in game.get_legal_moves(game.active_player):\n",
    "\n",
    "        v = min_value(game.forecast_move(move), depth)\n",
    "\n",
    "        if v > best_score:\n",
    "            best_score = v\n",
    "            best_move = move\n",
    "            \n",
    "    return best_move\n",
    "\n",
    "for i in range(3):\n",
    "    print(\"{}: {}\".format(i, get_best_branch(game, i)))"
   ]
  },
  {
   "cell_type": "code",
   "execution_count": 12,
   "metadata": {},
   "outputs": [
    {
     "data": {
      "text/plain": [
       "7"
      ]
     },
     "execution_count": 12,
     "metadata": {},
     "output_type": "execute_result"
    }
   ],
   "source": [
    "game.width"
   ]
  },
  {
   "cell_type": "code",
   "execution_count": 13,
   "metadata": {},
   "outputs": [
    {
     "data": {
      "text/plain": [
       "7"
      ]
     },
     "execution_count": 13,
     "metadata": {},
     "output_type": "execute_result"
    }
   ],
   "source": [
    "game.height"
   ]
  },
  {
   "cell_type": "code",
   "execution_count": 20,
   "metadata": {},
   "outputs": [
    {
     "data": {
      "text/plain": [
       "(3, 3)"
      ]
     },
     "execution_count": 20,
     "metadata": {},
     "output_type": "execute_result"
    }
   ],
   "source": [
    "(int(game.width/2), int(game.height/2))"
   ]
  },
  {
   "cell_type": "code",
   "execution_count": 22,
   "metadata": {},
   "outputs": [
    {
     "data": {
      "text/plain": [
       "(3, 3)"
      ]
     },
     "execution_count": 22,
     "metadata": {},
     "output_type": "execute_result"
    }
   ],
   "source": [
    "tuple(int(x/2) for x in [game.width, game.height])"
   ]
  },
  {
   "cell_type": "code",
   "execution_count": 23,
   "metadata": {},
   "outputs": [
    {
     "data": {
      "text/plain": [
       "(3, 3, 0, 1)"
      ]
     },
     "execution_count": 23,
     "metadata": {},
     "output_type": "execute_result"
    }
   ],
   "source": [
    "[(3,3)"
   ]
  },
  {
   "cell_type": "code",
   "execution_count": 26,
   "metadata": {},
   "outputs": [
    {
     "data": {
      "text/plain": [
       "'p1'"
      ]
     },
     "execution_count": 26,
     "metadata": {},
     "output_type": "execute_result"
    }
   ],
   "source": [
    "game.active_player"
   ]
  },
  {
   "cell_type": "code",
   "execution_count": null,
   "metadata": {
    "collapsed": true
   },
   "outputs": [],
   "source": []
  }
 ],
 "metadata": {
  "kernelspec": {
   "display_name": "Python 3",
   "language": "python",
   "name": "python3"
  },
  "language_info": {
   "codemirror_mode": {
    "name": "ipython",
    "version": 3
   },
   "file_extension": ".py",
   "mimetype": "text/x-python",
   "name": "python",
   "nbconvert_exporter": "python",
   "pygments_lexer": "ipython3",
   "version": "3.6.0"
  }
 },
 "nbformat": 4,
 "nbformat_minor": 2
}
