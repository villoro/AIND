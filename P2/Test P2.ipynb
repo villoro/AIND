{
 "cells": [
  {
   "cell_type": "code",
   "execution_count": 31,
   "metadata": {
    "collapsed": true
   },
   "outputs": [],
   "source": [
    "import isolation\n",
    "import game_agent as ga"
   ]
  },
  {
   "cell_type": "code",
   "execution_count": 32,
   "metadata": {
    "collapsed": true
   },
   "outputs": [],
   "source": [
    "game = isolation.Board(\"p1\", \"p2\")"
   ]
  },
  {
   "cell_type": "code",
   "execution_count": 47,
   "metadata": {},
   "outputs": [],
   "source": [
    "game.apply_move((2, 3))\n",
    "game.apply_move((4, 2))\n",
    "game.apply_move((3, 5))\n",
    "game.apply_move((3, 0))"
   ]
  },
  {
   "cell_type": "code",
   "execution_count": 158,
   "metadata": {},
   "outputs": [],
   "source": [
    "def custom_score(game, player):\n",
    "\n",
    "    if game.is_loser(player):\n",
    "        return float(\"-inf\")\n",
    "\n",
    "    if game.is_winner(player):\n",
    "        return float(\"inf\")\n",
    "\n",
    "    return float(len(game.get_legal_moves(player)))"
   ]
  },
  {
   "cell_type": "code",
   "execution_count": 159,
   "metadata": {
    "collapsed": true
   },
   "outputs": [],
   "source": [
    "def terminal_test(game):\n",
    "    return not bool(game.get_legal_moves())"
   ]
  },
  {
   "cell_type": "code",
   "execution_count": 160,
   "metadata": {},
   "outputs": [],
   "source": [
    "def min_value(game, depth):\n",
    "    \n",
    "    if terminal_test(game):\n",
    "        return float(\"inf\")\n",
    "    \n",
    "    if depth == 0:\n",
    "        return custom_score(game, game.get_opponent(game.active_player))\n",
    "        \n",
    "    v = float(\"inf\")\n",
    "    \n",
    "    for move in game.get_legal_moves():\n",
    "        v = min(v, max_value(game.forecast_move(move), depth - 1))\n",
    "        \n",
    "    return v\n",
    "\n",
    "def max_value(game, depth):\n",
    "\n",
    "    if terminal_test(game):\n",
    "        return float(\"-inf\")\n",
    "    \n",
    "    if depth == 0:\n",
    "        return custom_score(game, game.get_opponent(game.active_player))\n",
    "    \n",
    "    v = float(\"-inf\")\n",
    "    \n",
    "    for move in game.get_legal_moves():  \n",
    "        v = max(v, min_value(game.forecast_move(move), depth - 1))\n",
    "        \n",
    "    return v"
   ]
  },
  {
   "cell_type": "code",
   "execution_count": 161,
   "metadata": {},
   "outputs": [
    {
     "name": "stdout",
     "output_type": "stream",
     "text": [
      "0: (4, 3)\n",
      "1: (4, 3)\n",
      "2: (5, 4)\n"
     ]
    }
   ],
   "source": [
    "def get_best_branch(game, depth):\n",
    "    \n",
    "    best_score = float(\"-inf\")\n",
    "    best_move = None\n",
    "\n",
    "    for move in game.get_legal_moves(game.active_player):\n",
    "\n",
    "        v = min_value(game.forecast_move(move), depth)\n",
    "\n",
    "        if v > best_score:\n",
    "            best_score = v\n",
    "            best_move = move\n",
    "            \n",
    "    return best_move\n",
    "\n",
    "for i in range(3):\n",
    "    print(\"{}: {}\".format(i, get_best_branch(game, i)))"
   ]
  },
  {
   "cell_type": "code",
   "execution_count": 164,
   "metadata": {},
   "outputs": [
    {
     "name": "stdout",
     "output_type": "stream",
     "text": [
      "(1, 4): 5.0\n",
      "(5, 6): 2.0\n",
      "(1, 6): 2.0\n",
      "(5, 4): 4.0\n",
      "(4, 3): 7.0\n"
     ]
    }
   ],
   "source": [
    "for move in game.get_legal_moves():\n",
    "        \n",
    "    v = custom_score(game.forecast_move(move), game.active_player)  \n",
    "    print(\"{}: {}\".format(move, v))"
   ]
  },
  {
   "cell_type": "code",
   "execution_count": 163,
   "metadata": {},
   "outputs": [
    {
     "name": "stdout",
     "output_type": "stream",
     "text": [
      "(1, 4): 5.0\n",
      "(5, 6): 2.0\n",
      "(4, 3): 7.0\n",
      "(5, 4): 4.0\n",
      "(1, 6): 2.0\n"
     ]
    }
   ],
   "source": [
    "for move in game.get_legal_moves():\n",
    "        \n",
    "    v = min_value(game.forecast_move(move), 0) \n",
    "    print(\"{}: {}\".format(move, v))"
   ]
  },
  {
   "cell_type": "code",
   "execution_count": null,
   "metadata": {
    "collapsed": true
   },
   "outputs": [],
   "source": []
  }
 ],
 "metadata": {
  "kernelspec": {
   "display_name": "Python 3",
   "language": "python",
   "name": "python3"
  },
  "language_info": {
   "codemirror_mode": {
    "name": "ipython",
    "version": 3
   },
   "file_extension": ".py",
   "mimetype": "text/x-python",
   "name": "python",
   "nbconvert_exporter": "python",
   "pygments_lexer": "ipython3",
   "version": "3.6.0"
  }
 },
 "nbformat": 4,
 "nbformat_minor": 2
}
