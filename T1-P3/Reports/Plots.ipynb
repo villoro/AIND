{
 "cells": [
  {
   "cell_type": "code",
   "execution_count": 74,
   "metadata": {},
   "outputs": [
    {
     "name": "stderr",
     "output_type": "stream",
     "text": [
      "IOPub data rate exceeded.\n",
      "The notebook server will temporarily stop sending output\n",
      "to the client in order to avoid crashing it.\n",
      "To change this limit, set the config variable\n",
      "`--NotebookApp.iopub_data_rate_limit`.\n"
     ]
    }
   ],
   "source": [
    "import pandas as pd, seaborn as sns, numpy as np\n",
    "\n",
    "import plotly.offline as py, plotly.graph_objs as go\n",
    "from plotly.tools import FigureFactory as ff\n",
    "from plotly import tools\n",
    "\n",
    "from palette import palette\n",
    "\n",
    "py.init_notebook_mode()"
   ]
  },
  {
   "cell_type": "code",
   "execution_count": 62,
   "metadata": {
    "collapsed": true
   },
   "outputs": [],
   "source": [
    "def plot_plolty(inputs):\n",
    "    _PLOTLY_CONFIG = {\"displaylogo\": False,\n",
    "                \"modeBarButtonsToRemove\": [\"sendDataToCloud\", \"select2d\", \"lasso2d\", \"resetScale2d\"]}\n",
    "\n",
    "    return py.plot(inputs, show_link=False, config=_PLOTLY_CONFIG)"
   ]
  },
  {
   "cell_type": "code",
   "execution_count": 63,
   "metadata": {},
   "outputs": [
    {
     "data": {
      "text/html": [
       "<div>\n",
       "<table border=\"1\" class=\"dataframe\">\n",
       "  <thead>\n",
       "    <tr style=\"text-align: right;\">\n",
       "      <th></th>\n",
       "      <th>Problem</th>\n",
       "      <th>Num</th>\n",
       "      <th>Expansions</th>\n",
       "      <th>Goal Tests</th>\n",
       "      <th>New Nodes</th>\n",
       "      <th>Plan length</th>\n",
       "      <th>Time</th>\n",
       "    </tr>\n",
       "    <tr>\n",
       "      <th>Algorithm</th>\n",
       "      <th></th>\n",
       "      <th></th>\n",
       "      <th></th>\n",
       "      <th></th>\n",
       "      <th></th>\n",
       "      <th></th>\n",
       "      <th></th>\n",
       "    </tr>\n",
       "  </thead>\n",
       "  <tbody>\n",
       "    <tr>\n",
       "      <th>breadth_first_search</th>\n",
       "      <td>1</td>\n",
       "      <td>1</td>\n",
       "      <td>43.0</td>\n",
       "      <td>56.0</td>\n",
       "      <td>180.0</td>\n",
       "      <td>6.0</td>\n",
       "      <td>0.0277</td>\n",
       "    </tr>\n",
       "    <tr>\n",
       "      <th>breadth_first_tree_search</th>\n",
       "      <td>1</td>\n",
       "      <td>2</td>\n",
       "      <td>1458.0</td>\n",
       "      <td>1459.0</td>\n",
       "      <td>5960.0</td>\n",
       "      <td>6.0</td>\n",
       "      <td>0.8141</td>\n",
       "    </tr>\n",
       "    <tr>\n",
       "      <th>depth_first_graph_search</th>\n",
       "      <td>1</td>\n",
       "      <td>3</td>\n",
       "      <td>21.0</td>\n",
       "      <td>22.0</td>\n",
       "      <td>84.0</td>\n",
       "      <td>20.0</td>\n",
       "      <td>0.0129</td>\n",
       "    </tr>\n",
       "    <tr>\n",
       "      <th>depth_limited_search</th>\n",
       "      <td>1</td>\n",
       "      <td>4</td>\n",
       "      <td>101.0</td>\n",
       "      <td>271.0</td>\n",
       "      <td>414.0</td>\n",
       "      <td>50.0</td>\n",
       "      <td>0.0804</td>\n",
       "    </tr>\n",
       "    <tr>\n",
       "      <th>uniform_cost_search</th>\n",
       "      <td>1</td>\n",
       "      <td>5</td>\n",
       "      <td>55.0</td>\n",
       "      <td>57.0</td>\n",
       "      <td>224.0</td>\n",
       "      <td>6.0</td>\n",
       "      <td>0.0337</td>\n",
       "    </tr>\n",
       "  </tbody>\n",
       "</table>\n",
       "</div>"
      ],
      "text/plain": [
       "                           Problem  Num  Expansions  Goal Tests  New Nodes  \\\n",
       "Algorithm                                                                    \n",
       "breadth_first_search             1    1        43.0        56.0      180.0   \n",
       "breadth_first_tree_search        1    2      1458.0      1459.0     5960.0   \n",
       "depth_first_graph_search         1    3        21.0        22.0       84.0   \n",
       "depth_limited_search             1    4       101.0       271.0      414.0   \n",
       "uniform_cost_search              1    5        55.0        57.0      224.0   \n",
       "\n",
       "                           Plan length    Time  \n",
       "Algorithm                                       \n",
       "breadth_first_search               6.0  0.0277  \n",
       "breadth_first_tree_search          6.0  0.8141  \n",
       "depth_first_graph_search          20.0  0.0129  \n",
       "depth_limited_search              50.0  0.0804  \n",
       "uniform_cost_search                6.0  0.0337  "
      ]
     },
     "execution_count": 63,
     "metadata": {},
     "output_type": "execute_result"
    }
   ],
   "source": [
    "dfg = pd.read_excel(\"Data.xlsx\", sheetname=\"Results\", index_col=1)\n",
    "dfg.head()"
   ]
  },
  {
   "cell_type": "markdown",
   "metadata": {},
   "source": [
    "## Plot metrics for each problem"
   ]
  },
  {
   "cell_type": "code",
   "execution_count": 57,
   "metadata": {},
   "outputs": [
    {
     "data": {
      "text/plain": [
       "'file://C:\\\\PYTHON\\\\AIND\\\\P3\\\\Reports\\\\temp-plot.html'"
      ]
     },
     "execution_count": 57,
     "metadata": {},
     "output_type": "execute_result"
    }
   ],
   "source": [
    "df = dfg.copy()\n",
    "df = df[df[\"Problem\"] == 1]\n",
    "\n",
    "colors = palette().get_colors_by_index([(\"blue\", 200), (\"orange\", 200), (\"green\", 200)])\n",
    "\n",
    "data = []\n",
    "for col, color in zip([\"Expansions\", \"Goal Tests\", \"New Nodes\"], colors):\n",
    "    data.append(go.Bar(x=df.index, y=df[col], marker={\"color\":color}, name=col))\n",
    "\n",
    "layout = go.Layout(yaxis={\"title\": \"Count (log scale)\", \"type\": \"log\", \"autorange\": True}, \n",
    "                                xaxis={\"titlefont\":{\"size\":20}, \"tickangle\":10}, height=500, width=1500)\n",
    "plot_plolty(go.Figure(data=data, layout=layout))"
   ]
  },
  {
   "cell_type": "markdown",
   "metadata": {},
   "source": [
    "## Plot optimality"
   ]
  },
  {
   "cell_type": "code",
   "execution_count": 112,
   "metadata": {},
   "outputs": [
    {
     "data": {
      "text/plain": [
       "'file://C:\\\\PYTHON\\\\AIND\\\\P3\\\\Reports\\\\temp-plot.html'"
      ]
     },
     "execution_count": 112,
     "metadata": {},
     "output_type": "execute_result"
    }
   ],
   "source": [
    "df = dfg.copy()\n",
    "\n",
    "colors = palette().get_colors_by_index([(\"red\", 400), (\"green\", 500)])\n",
    "\n",
    "df[\"c_plan\"] = colors[0]\n",
    "for problem, value in [(1, 6.0), (2, 9), (3, 12)]:\n",
    "    df.loc[(df[\"Problem\"]==problem) & (df[\"Plan length\"]==value), \"c_plan\"] = colors[1]\n",
    "    \n",
    "size = 15*df[\"Plan length\"].fillna(0).apply(np.log).replace(-np.inf, 0)\n",
    "\n",
    "data = [go.Scatter(x=df.index, y=\"Problem \"+ df[\"Problem\"].apply(str), mode='markers+text', text=df[\"Plan length\"],\n",
    "                      marker={\"size\":size, \"color\":df[\"c_plan\"]})]\n",
    "\n",
    "layout = go.Layout(yaxis={\"dtick\": 1}, xaxis={\"titlefont\":{\"size\":20}, \"tickangle\":10}, height=500, width=1200)\n",
    "plot_plolty(go.Figure(data=data, layout=layout))"
   ]
  },
  {
   "cell_type": "markdown",
   "metadata": {},
   "source": [
    "## Plot cost of calculation"
   ]
  },
  {
   "cell_type": "code",
   "execution_count": 120,
   "metadata": {},
   "outputs": [
    {
     "data": {
      "text/plain": [
       "'file://C:\\\\PYTHON\\\\AIND\\\\P3\\\\Reports\\\\temp-plot.html'"
      ]
     },
     "execution_count": 120,
     "metadata": {},
     "output_type": "execute_result"
    }
   ],
   "source": [
    "colors = palette().get_colors_by_index([(\"blue\", 200), (\"blue\", 400), (\"blue\", 600)])\n",
    "\n",
    "data = []\n",
    "for x, color in enumerate(colors):\n",
    "    df = dfg[dfg[\"Problem\"] == x+1]\n",
    "    data.append(go.Bar(x=df.index, y=df[\"Time\"], marker={\"color\":color}, name=\"Problem {}\".format(x)))\n",
    "\n",
    "layout = go.Layout(yaxis={\"title\": \"Time [seconds] (log scale)\", \"type\": \"log\", \"autorange\": True}, \n",
    "                                xaxis={\"titlefont\":{\"size\":20}, \"tickangle\":10}, height=500, width=1500)\n",
    "plot_plolty(go.Figure(data=data, layout=layout))"
   ]
  },
  {
   "cell_type": "code",
   "execution_count": null,
   "metadata": {
    "collapsed": true
   },
   "outputs": [],
   "source": []
  }
 ],
 "metadata": {
  "kernelspec": {
   "display_name": "Python 3",
   "language": "python",
   "name": "python3"
  },
  "language_info": {
   "codemirror_mode": {
    "name": "ipython",
    "version": 3
   },
   "file_extension": ".py",
   "mimetype": "text/x-python",
   "name": "python",
   "nbconvert_exporter": "python",
   "pygments_lexer": "ipython3",
   "version": "3.6.0"
  }
 },
 "nbformat": 4,
 "nbformat_minor": 2
}
