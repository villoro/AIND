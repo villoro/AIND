{
 "cells": [
  {
   "cell_type": "code",
   "execution_count": 1,
   "metadata": {
    "collapsed": true
   },
   "outputs": [],
   "source": [
    "cargos = ['C1', 'C2', 'C3']\n",
    "planes = ['P1', 'P2', 'P3']\n",
    "airports = ['SFO', 'JFK', 'ATL']"
   ]
  },
  {
   "cell_type": "code",
   "execution_count": 17,
   "metadata": {
    "collapsed": true
   },
   "outputs": [],
   "source": [
    "cargos = ['C1', 'C2', 'C3', 'C4']\n",
    "planes = ['P1', 'P2']\n",
    "airports = ['SFO', 'JFK', 'ATL', 'ORD']"
   ]
  },
  {
   "cell_type": "code",
   "execution_count": 18,
   "metadata": {},
   "outputs": [
    {
     "data": {
      "text/plain": [
       "['At(C1, SFO)',\n",
       " 'At(C2, JFK)',\n",
       " 'At(C3, ATL)',\n",
       " 'At(C4, ORD)',\n",
       " 'At(P1, SFO)',\n",
       " 'At(P2, JFK)']"
      ]
     },
     "execution_count": 18,
     "metadata": {},
     "output_type": "execute_result"
    }
   ],
   "source": [
    "['At({}, {})'.format(x, a) for x, a in zip(cargos + planes, 2*airports)]"
   ]
  },
  {
   "cell_type": "code",
   "execution_count": 19,
   "metadata": {},
   "outputs": [
    {
     "data": {
      "text/plain": [
       "['At(C1, SFO)',\n",
       " 'At(C2, JFK)',\n",
       " 'At(C3, ATL)',\n",
       " 'At(C4, ORD)',\n",
       " 'At(P1, SFO)',\n",
       " 'At(P2, JFK)']"
      ]
     },
     "execution_count": 19,
     "metadata": {},
     "output_type": "execute_result"
    }
   ],
   "source": [
    "['At({}, {})'.format(c, a)\n",
    "                    for c, a in zip(cargos, airports)] + \\\n",
    "            ['At({}, {})'.format(p, a)\n",
    "                                for p, a in zip(planes, airports)]"
   ]
  },
  {
   "cell_type": "code",
   "execution_count": 11,
   "metadata": {},
   "outputs": [
    {
     "data": {
      "text/plain": [
       "['At(C1, JFK)',\n",
       " 'At(C1, ATL)',\n",
       " 'At(C2, SFO)',\n",
       " 'At(C2, ATL)',\n",
       " 'At(C3, SFO)',\n",
       " 'At(C3, JFK)']"
      ]
     },
     "execution_count": 11,
     "metadata": {},
     "output_type": "execute_result"
    }
   ],
   "source": [
    "['At({}, {})'.format(c, a) for ic, c in enumerate(cargos) for ia, a in enumerate(airports) if ic != ia]"
   ]
  },
  {
   "cell_type": "code",
   "execution_count": 16,
   "metadata": {},
   "outputs": [
    {
     "data": {
      "text/plain": [
       "['At(C1, JFK)',\n",
       " 'At(C1, ATL)',\n",
       " 'At(C2, SFO)',\n",
       " 'At(C2, ATL)',\n",
       " 'At(C3, SFO)',\n",
       " 'At(C3, JFK)']"
      ]
     },
     "execution_count": 16,
     "metadata": {},
     "output_type": "execute_result"
    }
   ],
   "source": [
    "['At({}, {})'.format(c, a) for c in cargos \n",
    "                             for a in airports \n",
    "                             if cargos.index(c) != airports.index(a)]"
   ]
  },
  {
   "cell_type": "code",
   "execution_count": 14,
   "metadata": {},
   "outputs": [
    {
     "data": {
      "text/plain": [
       "1"
      ]
     },
     "execution_count": 14,
     "metadata": {},
     "output_type": "execute_result"
    }
   ],
   "source": [
    "cargos.index(\"C2\")"
   ]
  },
  {
   "cell_type": "code",
   "execution_count": null,
   "metadata": {
    "collapsed": true
   },
   "outputs": [],
   "source": []
  }
 ],
 "metadata": {
  "kernelspec": {
   "display_name": "Python 3",
   "language": "python",
   "name": "python3"
  },
  "language_info": {
   "codemirror_mode": {
    "name": "ipython",
    "version": 3
   },
   "file_extension": ".py",
   "mimetype": "text/x-python",
   "name": "python",
   "nbconvert_exporter": "python",
   "pygments_lexer": "ipython3",
   "version": "3.6.0"
  }
 },
 "nbformat": 4,
 "nbformat_minor": 2
}
